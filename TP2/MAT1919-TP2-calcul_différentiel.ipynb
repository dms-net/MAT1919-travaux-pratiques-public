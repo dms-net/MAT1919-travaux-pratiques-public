{
 "cells": [
  {
   "cell_type": "markdown",
   "metadata": {
    "Collapsed": "false"
   },
   "source": [
    "Le calcul différentiel\n",
    "====="
   ]
  },
  {
   "cell_type": "markdown",
   "metadata": {},
   "source": [
    "Indexation et slicing\n",
    "-----"
   ]
  },
  {
   "cell_type": "markdown",
   "metadata": {},
   "source": [
    "Dans le dernier TP vous vous êtes familiarisé avec les vecteurs et tableaux numpy. Nous allons maintenant vous présenter une façon de manipuler ces objets de façon plus précise.\n",
    "\n",
    "Supposons que nous avons le vecteur suivant"
   ]
  },
  {
   "cell_type": "code",
   "execution_count": 1,
   "metadata": {},
   "outputs": [
    {
     "name": "stdout",
     "output_type": "stream",
     "text": [
      "[1 2 3 4 5 6]\n"
     ]
    }
   ],
   "source": [
    "import numpy as np\n",
    "vecteur = np.array([1,2,3,4,5,6])\n",
    "print(vecteur)"
   ]
  },
  {
   "cell_type": "markdown",
   "metadata": {},
   "source": [
    "et que nous voulons avoir accès au troisième élément. Nous pouvons alors utiliser la méthode suivante:"
   ]
  },
  {
   "cell_type": "code",
   "execution_count": 2,
   "metadata": {},
   "outputs": [
    {
     "name": "stdout",
     "output_type": "stream",
     "text": [
      "3\n"
     ]
    }
   ],
   "source": [
    "element3 = vecteur[2]\n",
    "print(element3)"
   ]
  },
  {
   "cell_type": "markdown",
   "metadata": {},
   "source": [
    "En effet, souvenez-vous qu'en python les indices commencent à 0. Le troisième élément se trouve donc à l'indice 2. Nous pouvons aussi utiliser cette syntaxe pour modifier un élément unique dans un vecteur:"
   ]
  },
  {
   "cell_type": "code",
   "execution_count": 3,
   "metadata": {},
   "outputs": [
    {
     "name": "stdout",
     "output_type": "stream",
     "text": [
      "[ 1  2 -1  4  5  6]\n"
     ]
    }
   ],
   "source": [
    "vecteur[2] = -1\n",
    "print(vecteur)"
   ]
  },
  {
   "cell_type": "markdown",
   "metadata": {},
   "source": [
    "C'est ce qu'on appelle l'indexation. On peut aussi utiliser des chiffres négatifs pour compter à partir de la fin. L'indice -1 est donc le dernier élément, l'indice -2 l'avant dernier et ainsi de suite."
   ]
  },
  {
   "cell_type": "code",
   "execution_count": 4,
   "metadata": {},
   "outputs": [
    {
     "name": "stdout",
     "output_type": "stream",
     "text": [
      "6\n"
     ]
    }
   ],
   "source": [
    "print(vecteur[-1])"
   ]
  },
  {
   "cell_type": "markdown",
   "metadata": {},
   "source": [
    "Une autre méthode encore plus puissante est le «slicing». Elle est appelée ainsi car elle permet d'obtenir une «tranche» du vecteur. Le «slicing» fonctionne ainsi:"
   ]
  },
  {
   "cell_type": "code",
   "execution_count": 5,
   "metadata": {},
   "outputs": [
    {
     "name": "stdout",
     "output_type": "stream",
     "text": [
      "[2 4]\n"
     ]
    }
   ],
   "source": [
    "debut = 1\n",
    "fin = 4\n",
    "pas = 2\n",
    "print(vecteur[debut:fin:pas])"
   ]
  },
  {
   "cell_type": "markdown",
   "metadata": {},
   "source": [
    "Ceci nous donne les éléments des indices «début» (inclusivement) à «fin» (exclusivement) par intervalle de «pas». Par défaut le pas est de 1. On peut donc omettre le pas si on n'en a pas besoin:"
   ]
  },
  {
   "cell_type": "code",
   "execution_count": 6,
   "metadata": {},
   "outputs": [
    {
     "name": "stdout",
     "output_type": "stream",
     "text": [
      "[4 5]\n"
     ]
    }
   ],
   "source": [
    "print(vecteur[3:5])"
   ]
  },
  {
   "cell_type": "markdown",
   "metadata": {},
   "source": [
    "On peut aussi laisser le début et/ou la fin vide. Dans ce cas le début prend la valeur par défaut 0 et la fin la valeur -1"
   ]
  },
  {
   "cell_type": "code",
   "execution_count": 7,
   "metadata": {},
   "outputs": [
    {
     "name": "stdout",
     "output_type": "stream",
     "text": [
      "[ 1  2 -1  4  5  6]\n"
     ]
    }
   ],
   "source": [
    "print(vecteur[:])"
   ]
  },
  {
   "cell_type": "markdown",
   "metadata": {},
   "source": [
    "Les mêmes principes s'appliquent pour un tableau en deux dimensions. Soit le tableau"
   ]
  },
  {
   "cell_type": "code",
   "execution_count": 8,
   "metadata": {},
   "outputs": [
    {
     "name": "stdout",
     "output_type": "stream",
     "text": [
      "[[ 0  1  2  3  4  5  6  7  8  9]\n",
      " [10 11 12 13 14 15 16 17 18 19]]\n"
     ]
    }
   ],
   "source": [
    "tableau = np.array([[0,1,2,3,4,5,6,7,8,9],[10,11,12,13,14,15,16,17,18,19]])\n",
    "print(tableau)"
   ]
  },
  {
   "cell_type": "markdown",
   "metadata": {},
   "source": [
    "Pour aller chercher l'élément 15 qui se trouve dans la sixième colonne de la deuxième rangé, on écrit simplement"
   ]
  },
  {
   "cell_type": "code",
   "execution_count": 9,
   "metadata": {},
   "outputs": [
    {
     "name": "stdout",
     "output_type": "stream",
     "text": [
      "15\n"
     ]
    }
   ],
   "source": [
    "print(tableau[1,5])"
   ]
  },
  {
   "cell_type": "markdown",
   "metadata": {},
   "source": [
    "Et si on veut extraire la deuxième et la troisième colonne uniquement on peut faire"
   ]
  },
  {
   "cell_type": "code",
   "execution_count": 10,
   "metadata": {},
   "outputs": [
    {
     "name": "stdout",
     "output_type": "stream",
     "text": [
      "[[ 1  2]\n",
      " [11 12]]\n"
     ]
    }
   ],
   "source": [
    "print(tableau[:,1:3])"
   ]
  },
  {
   "cell_type": "markdown",
   "metadata": {},
   "source": [
    "À votre tour\n",
    "-----"
   ]
  },
  {
   "cell_type": "markdown",
   "metadata": {},
   "source": [
    "En utilisant les principes du slicing, retenez uniquement les chiffres pairs du tableau."
   ]
  },
  {
   "cell_type": "code",
   "execution_count": null,
   "metadata": {},
   "outputs": [],
   "source": []
  },
  {
   "cell_type": "markdown",
   "metadata": {},
   "source": [
    "Laboratoire\n",
    "====="
   ]
  },
  {
   "cell_type": "markdown",
   "metadata": {
    "Collapsed": "false"
   },
   "source": [
    "Sympy et les équations différentielles\n",
    "-----"
   ]
  },
  {
   "cell_type": "markdown",
   "metadata": {
    "Collapsed": "false"
   },
   "source": [
    "Dans le dernier TP, vous avez utilisé sympy pour programmer l'équation d'un neurone de type intégration-et-tir parfait. Nous alons maintenant faire de même pour le modèle intégration-et-tir avec fuite. Ce modèle est défini comme suit:\n",
    "$$C_m \\frac{dV_m(t)}{dt}=I(t)-\\frac{V_m(t)}{R_m}$$\n",
    "Lorsque la tension de la membrane du neurone atteint un seuil $V_{th}$, le neurone «tire» et on remet la tension à zéro.\n",
    "\n",
    "Votre première tâche est de programmer chaque côté de l'équation avec sympy. Vous devriez donc avoir deux équations. N'oubliez pas d'importer votre librairie avant de l'utiliser!"
   ]
  },
  {
   "cell_type": "code",
   "execution_count": null,
   "metadata": {
    "Collapsed": "false"
   },
   "outputs": [],
   "source": []
  },
  {
   "cell_type": "markdown",
   "metadata": {
    "Collapsed": "false"
   },
   "source": [
    "En utilisant les équations que vous venez de définir, et en supposant que le courant entrant $I(t)$ est constant et égal à $i$, trouvez l'équation qui permet de calculer le nombre de temps avant que le neurone tire en fonction des paramètres, c'est-à-dire le moment où $V_m(t)=V_{th}$."
   ]
  },
  {
   "cell_type": "code",
   "execution_count": null,
   "metadata": {
    "Collapsed": "false"
   },
   "outputs": [],
   "source": []
  },
  {
   "cell_type": "markdown",
   "metadata": {
    "Collapsed": "false"
   },
   "source": [
    "Toujours en utilisant des équation symboliques et en supposant un courant entrant continu, trouvez l'équation qui permet de calculer le courant minimal $i_{th}$ pour que la membrane du neurone atteigne la tension critique $V_{th}$."
   ]
  },
  {
   "cell_type": "code",
   "execution_count": null,
   "metadata": {
    "Collapsed": "false"
   },
   "outputs": [],
   "source": []
  },
  {
   "cell_type": "markdown",
   "metadata": {
    "Collapsed": "false"
   },
   "source": [
    "Trouvez maintenant la fonction par partie qui défini la fréquence de tir par rapport au courant entrant pour un neurone de type intégration-et-tir avec fuite lorsque le courant entrant est continu. Indice: la fonction sera égale à $0$ pour $i<i_{th}$"
   ]
  },
  {
   "cell_type": "code",
   "execution_count": null,
   "metadata": {
    "Collapsed": "false"
   },
   "outputs": [],
   "source": []
  },
  {
   "cell_type": "markdown",
   "metadata": {
    "Collapsed": "false"
   },
   "source": [
    "En utilisant numpy et matplotlib, dessinez la fonction que vous venez de définir . Vous devrez donner une valeur de votre choix aux parmètres $C_m$, $R_m$ et $V_{th}$. Expérimentez avec différentes valeurs de paramètres et voyez comment la fonction change!"
   ]
  },
  {
   "cell_type": "code",
   "execution_count": null,
   "metadata": {
    "Collapsed": "false"
   },
   "outputs": [],
   "source": []
  },
  {
   "cell_type": "markdown",
   "metadata": {},
   "source": [
    "La différentiation numérique\n",
    "-----"
   ]
  },
  {
   "cell_type": "markdown",
   "metadata": {},
   "source": [
    "Dans certains cas, il peut être très difficile et peu utile d'utiliser la différentiation symbolique. La différentiation numérique, bien qu'étant une approximation, est bien souvent suffisante lorsqu'on cherche simplement à expérimenter avec un système. Nous allons reprendre l'équation du neurone intégration-et-tir avec fuite et allons utiliser la définition de la dérivée pour trouver une approximation qui sera plus facile à calculer numériquement"
   ]
  },
  {
   "cell_type": "markdown",
   "metadata": {},
   "source": [
    "La dérivée est définie ainsi:\n",
    "$$\\frac{df(x)}{dx}=\\lim_{\\Delta x\\rightarrow 0}\\frac{f(x+\\Delta x)-f(x)}{\\Delta x}$$\n",
    "Par conséquent, si on prend $\\Delta x$ assez petit, on peut généralement obtenir une assez bonne approximation avec l'équation\n",
    "$$\\frac{df(x)}{dx}\\approx\\frac{f(x+\\Delta x)-f(x)}{\\Delta x}$$\n",
    "\n",
    "Dans beaucoup de cas lorsqu'on travaille avec des modèles de systèmes naturels, on fait face à des équations du type\n",
    "$$\\frac{df(x)}{dx}=g(x)$$\n",
    "C'est d'ailleurs le cas pour notre modèle de neurone. Dans ces cas on peut utiliser la différentiation numérique pour transformer notre équation sous la forme\n",
    "$$f(x+\\Delta x)=f(x)+\\Delta x \\cdot g(x)$$\n",
    "qui est généralement beaucoup plus facile à résoudre numériquement.\n",
    "\n",
    "En utilisant la méthode que l'on vient de décrire, transformez l'équation symbolique du neurone intégration-et-tir en son approximation numérique. Écrivez une fonction python qui prend $V_m(t)$, $\\Delta t$, $C_m$, $R_m$ et $V_{th}$ en paramètres et renvoie $V_m(t+\\Delta t)$. N'oubliez pas que si $V_m$ dépasse $V_{th}$, la tension du neurone est remis à zéro."
   ]
  },
  {
   "cell_type": "code",
   "execution_count": null,
   "metadata": {},
   "outputs": [],
   "source": []
  },
  {
   "cell_type": "markdown",
   "metadata": {},
   "source": [
    "Nous allons maintenant utiliser la dérivée numérique pour simuler un système de plusieurs neurones. L'état des neurones dans le temps va être enregistré dans un tableau numpy. Chaque ligne représente un neurone et chaque colone représente un indice de temps.\n",
    "\n",
    "Commencez par définir les variables $n$ pour le nombre de neurones, $dt$ pour l'intervalle de temps entre chaque étape de l'intégration et $d$ pour la durée de l'expérience en secondes. Nous allons commencer avec les valeurs $n=10$, $dt=0.1$ et $d=100$. Initialisez ensuite un tableau numpy vide (c'est-à-dire avec la valeur zéro partout) de taille appropriée. Attention, ne calculez pas la bonne taille à la main. Vous devez utiliser les paramètres pour déterminer la taille afin que le code s'adapte par lui-même si vous décidez de modifier un paramètre."
   ]
  },
  {
   "cell_type": "code",
   "execution_count": null,
   "metadata": {},
   "outputs": [],
   "source": []
  },
  {
   "cell_type": "markdown",
   "metadata": {},
   "source": [
    "Pour cette expérience, nous allons supposer que chaque neurone dans notre système est connecté à tous les autres avec une force aléatoire entre $0$ et $1$. Le courant entrant $I(t)$ sera la somme des tensions $V_m(t-dt)$ des autres neurones multiplié par leurs forces de connections respectives. Créez un tableau numpy de taille $n\\times n$ avec des valeurs aléatoires entre $0$ et $1$ qui représentera les connections entre chaque paire de neurones."
   ]
  },
  {
   "cell_type": "code",
   "execution_count": null,
   "metadata": {},
   "outputs": [],
   "source": []
  },
  {
   "cell_type": "markdown",
   "metadata": {},
   "source": [
    "Comme nous n'injectons pas de courant extérieur dans cette expérience, si les neurones commencent tous avec une tension nulle ils resteront ainsi. Il faut donc initialiser les neurones pour le premier indice de temps. Dans le tableau créé plus haut, assignez des valeurs aléatoires entre $0$ et $V_{th}$ à la première colone."
   ]
  },
  {
   "cell_type": "code",
   "execution_count": null,
   "metadata": {},
   "outputs": [],
   "source": []
  },
  {
   "cell_type": "markdown",
   "metadata": {},
   "source": [
    "Nous avons maintenant tout ce qu'il faut pour exécuter notre expérience. En utilisant l'équation définie au début de cette section et le tableau de connections, générez le reste des valeurs du tableau de tensions en fonction du temps. Commencez en générant les valeurs de la deuxième colone à partir de celles de la première et progressez ainsi d'une colone à l'autre jusqu'à ce que vous ayez terminé de remplir le tableau."
   ]
  },
  {
   "cell_type": "code",
   "execution_count": null,
   "metadata": {},
   "outputs": [],
   "source": []
  },
  {
   "cell_type": "markdown",
   "metadata": {},
   "source": [
    "En utilisant matplotlib, dessinez la tension de chaque neurone en fonction du temps. Pour ce faire, créez un tableau avec 10 graphiques superposés. Les graphiques devraient partager l'axe du temps mais avoir des axes de tension individuels."
   ]
  },
  {
   "cell_type": "code",
   "execution_count": null,
   "metadata": {},
   "outputs": [],
   "source": []
  },
  {
   "cell_type": "markdown",
   "metadata": {},
   "source": [
    "Diminuez la valeur de $dt$ afin que l'approximation numérique soit assez proche de la réalité. Vous saurez que vous avez atteint la bonne valeur lorsque diminuer $dt$ ne modifie pas significativement l'apparence de votre graphique. Attention de ne pas recalculer les valeurs aléatoires sinon le graphique changera complètement!\n",
    "\n",
    "Si vous le voulez, vous pouvez ensuite expérimenter avec les différents paramètres de la simulation. Que se passe-t-il si vous diminuez la force maximale de connection entre les neurones? Ou si vous réduisez la moitié des connections à 0? Est-ce que la tension initiale des neurones a un effet à long terme?"
   ]
  }
 ],
 "metadata": {
  "kernelspec": {
   "display_name": "Python 3 (ipykernel)",
   "language": "python",
   "name": "python3"
  },
  "language_info": {
   "codemirror_mode": {
    "name": "ipython",
    "version": 3
   },
   "file_extension": ".py",
   "mimetype": "text/x-python",
   "name": "python",
   "nbconvert_exporter": "python",
   "pygments_lexer": "ipython3",
   "version": "3.9.7"
  }
 },
 "nbformat": 4,
 "nbformat_minor": 4
}
