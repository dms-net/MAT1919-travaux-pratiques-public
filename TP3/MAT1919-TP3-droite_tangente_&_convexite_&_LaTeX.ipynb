{
 "cells": [
  {
   "cell_type": "markdown",
   "id": "6d1119b5-2fcf-4b88-9e92-7652b8957349",
   "metadata": {},
   "source": [
    "Quelques outils mathématiques\n",
    "====="
   ]
  },
  {
   "cell_type": "markdown",
   "id": "3e78a099-e32b-4f2c-884b-5c383ac4ad63",
   "metadata": {
    "tags": []
   },
   "source": [
    "La droite tangente\n",
    "-----"
   ]
  },
  {
   "cell_type": "markdown",
   "id": "89eecbee-16a4-4578-abd4-0c16e6a52403",
   "metadata": {},
   "source": [
    "On sait que la dérivée peut être interprétée comme la pente de la courbe en un point. Soit l'équation $y(x)=\\frac{x}{x^2+1}$. En utilisant sympy, trouvez la dérivée de cette équation."
   ]
  },
  {
   "cell_type": "code",
   "execution_count": null,
   "id": "c338f1a0-cf15-4653-ac7d-357fc34b7b0a",
   "metadata": {},
   "outputs": [],
   "source": []
  },
  {
   "cell_type": "markdown",
   "id": "aaaa4d7c-99ca-41a6-9be7-250b9630625c",
   "metadata": {},
   "source": [
    "En utilisant l'équation de la fonction et de sa dérivée, trouvez l'équation de la pente tangente à la courbe en un point quelconque $x_0$."
   ]
  },
  {
   "cell_type": "code",
   "execution_count": null,
   "id": "e75ae800-863f-45f6-8248-0dc5d8d11293",
   "metadata": {},
   "outputs": [],
   "source": []
  },
  {
   "cell_type": "markdown",
   "id": "6515a8cc-b9d4-436c-8d99-c0a4abab067f",
   "metadata": {},
   "source": [
    "Vérifiez votre réponse en dessinant la fonction et les tangentes en quelques points."
   ]
  },
  {
   "cell_type": "code",
   "execution_count": null,
   "id": "be304f45-229d-4987-b5c4-50ffbb6a5b3c",
   "metadata": {},
   "outputs": [],
   "source": []
  },
  {
   "cell_type": "markdown",
   "id": "9af5b1bc-6f2e-442a-b50e-5f1d5948620c",
   "metadata": {},
   "source": [
    "Convexité et concavité des fonctions\n",
    "-----"
   ]
  },
  {
   "cell_type": "markdown",
   "id": "6ea9cbe6-e4d1-48a0-b939-da90aaa859cb",
   "metadata": {},
   "source": [
    "Une fonction est dite convexe si pour tout deux points sur la courbe, le segment connectant ces deux points est au dessus de la courbe. Réciproquement, pour une fonction concave, ce segment est en dessous de la courbe. Une définition équivalente pour une fonction dérivable est que pour une fonction convexe, toute droite tangente se trouve entièrement sous la courbe, et pour une fonction concave elle se trouve par dessus la courbe.\n",
    "\n",
    "On considère la même fonction qu'au numéro précédent. En utilisant une méthode sympy, déterminez la convexité et la concavité de cette fonction sur les domaines suivants: les réels, l'intervalle $0<x<1$ et l'intervalle $x>2$."
   ]
  },
  {
   "cell_type": "code",
   "execution_count": null,
   "id": "0a592d6e-c431-4e65-8606-757567c7a5f6",
   "metadata": {},
   "outputs": [],
   "source": []
  },
  {
   "cell_type": "markdown",
   "id": "0cc245b0-1b9d-4c94-9256-37d83a86fcaf",
   "metadata": {},
   "source": [
    "Pour une fonction doublement dérivable, on peut également déterminer la convexité ou la concavité d'une fonction avec le signe de la deuxième dérivée. Si la double dérivée est positive ou nulle sur un intervalle, la fonction est convexe sur cet intervalle. Réciproquement, si la double dérivée est négative ou nulle, la fonction est concave.\n",
    "\n",
    "Sur un même graqhique, dessinez la fonction $y(x)$ ainsi que sa seconde dérivée. Utilisez sympy pour trouver les racines de la seconde dérivée. Ces points sont appelés les «points d'inflexion» de la fonction $y$."
   ]
  },
  {
   "cell_type": "code",
   "execution_count": null,
   "id": "4ffdffe2-6801-4a82-8626-287a652d2375",
   "metadata": {},
   "outputs": [],
   "source": []
  },
  {
   "cell_type": "markdown",
   "id": "3328be03-9b71-44f1-a99e-d09fe61a9bbf",
   "metadata": {},
   "source": [
    "D'après ces résultats, sur quels intervalles la fonction $y(x)$ est-elle concave ou convexe? Créez une nouvelle cellule de type markdown et écrivez-y votre réponse."
   ]
  },
  {
   "cell_type": "markdown",
   "id": "9ac50ffd-9e71-40a9-96c9-6ced6646eb71",
   "metadata": {},
   "source": [
    "Écrire des équations avec LaTeX\n",
    "-----"
   ]
  },
  {
   "cell_type": "markdown",
   "id": "bf5a0a45-8c0f-4d17-b43a-8e245b5154bd",
   "metadata": {},
   "source": [
    "Vous avez probablement remarqué les jolies équations inclues dans les TPs de ce cours. Vous allez maintenant apprendre à écrire ces équations vous aussi.\n",
    "\n",
    "Jupyter Notebook permet d'écrire du texte en Markdown. Markdown est un langage de markup qui permet d'écrire du texte enrichis (titres et sous-titres, texte italique ou gras, liens internet, etc.) et, particulièrement pour cet exercice, des équations en format Latex. Vous trouverez de la documentation sur les équations Latex [ici](https://en.wikibooks.org/wiki/LaTeX/Mathematics).\n",
    "\n",
    "Réécrivez les équations suivantes en Latex. Indice: placez les équations entre des signes de dollars (\\\\$) pour indiquer à Markdown qu'il s'agit d'une équation."
   ]
  },
  {
   "cell_type": "markdown",
   "id": "2b71d760-8867-4d7a-b95e-6d4b78081d8d",
   "metadata": {},
   "source": [
    "![Réseau de neurones](https://wikimedia.org/api/rest_v1/media/math/render/svg/844d1fcf33306b5bbc276cfc799e638ce0fed150)"
   ]
  },
  {
   "cell_type": "markdown",
   "id": "1a026136-66b5-45bd-9322-61b7898c366b",
   "metadata": {},
   "source": []
  },
  {
   "cell_type": "markdown",
   "id": "38772bbd-6cde-4965-b112-760342100109",
   "metadata": {},
   "source": [
    "![Convolution](https://wikimedia.org/api/rest_v1/media/math/render/svg/f206e8a29757c5a535750aac96b6d0c3be9f4bbb)"
   ]
  },
  {
   "cell_type": "markdown",
   "id": "cf4f2fd2-ff8c-463e-b4fa-cdcacc3f454c",
   "metadata": {},
   "source": []
  },
  {
   "cell_type": "markdown",
   "id": "4f700a05-7591-4803-82de-d1a6e6fd4cf3",
   "metadata": {},
   "source": []
  }
 ],
 "metadata": {
  "kernelspec": {
   "display_name": "Python 3 (ipykernel)",
   "language": "python",
   "name": "python3"
  },
  "language_info": {
   "codemirror_mode": {
    "name": "ipython",
    "version": 3
   },
   "file_extension": ".py",
   "mimetype": "text/x-python",
   "name": "python",
   "nbconvert_exporter": "python",
   "pygments_lexer": "ipython3",
   "version": "3.9.7"
  }
 },
 "nbformat": 4,
 "nbformat_minor": 5
}
