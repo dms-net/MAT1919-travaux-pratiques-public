{
 "cells": [
  {
   "cell_type": "markdown",
   "id": "7d407b3d-92fb-430e-9f33-6e74681babac",
   "metadata": {},
   "source": [
    "L'algorithme PCA et la régression linéaire\n",
    "====="
   ]
  },
  {
   "cell_type": "markdown",
   "id": "9bf6a203-92e8-4b18-8cfe-6d88e1d3fc18",
   "metadata": {},
   "source": [
    "Pour ce TP vous devrez installer une nouvelle librairie dans votre environnement Anaconda. Dans l'onglet «environnements» de l'application, choisissez l'environnement «MAT1919». Dans le menu déroulant choisissez «tous» pour voir toutes les librairies disponibles puis dans la barre de recherche écrivez «scikit-learn». Installez cette librairie."
   ]
  },
  {
   "cell_type": "markdown",
   "id": "f57dbff2-46a8-4c30-bdb3-97d1ffd188cb",
   "metadata": {},
   "source": [
    "L'algorithme PCA\n",
    "-----"
   ]
  },
  {
   "cell_type": "markdown",
   "id": "f4f6ac0a-31fa-49c7-981a-842ae5bd160e",
   "metadata": {},
   "source": [
    "Dans les fichiers rvb.npy et activite.npy on a une simulation de l'expérience suivante: On a 50 neurones photosensibles de la rétine qu'on illumine avec des lumières de différentes couleurs. On fait ainsi 20 expériences et chaque fois on mesure l'activité de chaque neurone. Dans le fichier rvb.npy on a la couleur de la lumière utilisée pour chaque expérience et dans le fichier activite.npy on a l'activité de chaque neurone pour chaque expérience.\n",
    "\n",
    "Utilisez l'algorithme PCA de la librairie scikit-learn pour analyser les données d'activité."
   ]
  },
  {
   "cell_type": "code",
   "execution_count": null,
   "id": "79bafa23-da02-470b-a2fc-c81ead7ff97a",
   "metadata": {},
   "outputs": [],
   "source": []
  },
  {
   "cell_type": "markdown",
   "id": "4090a259-6974-4ef7-84e7-e785863a79b2",
   "metadata": {},
   "source": [
    "Dessinez le graphique de la proportion de variance expliquée par dimension de PCA. D'après ce graphique, en combien de dimensions devrions nous dessiner les points afin de visualiser la majorité de l'information contenue dans les données?"
   ]
  },
  {
   "cell_type": "code",
   "execution_count": null,
   "id": "98f040ca-2a4e-4c0c-8b22-145f7eddbda0",
   "metadata": {},
   "outputs": [],
   "source": []
  },
  {
   "cell_type": "markdown",
   "id": "86e30390-049b-467a-95da-e1a974381cac",
   "metadata": {},
   "source": [
    "Dessinez les points dans les premières dimensions PCA. Qu'est-ce qu'on remarque? Avancez une théorie sur la nature des neurones."
   ]
  },
  {
   "cell_type": "code",
   "execution_count": null,
   "id": "8dd53a94-995c-4a36-9342-7ded662509b7",
   "metadata": {},
   "outputs": [],
   "source": []
  },
  {
   "cell_type": "markdown",
   "id": "3a6d4375-521f-440d-ba96-83cb9d747386",
   "metadata": {},
   "source": [
    "La régression linéaire\n",
    "-----\n",
    "Utilisez l'algorithme de régression linéaire de la librairie scipy pour déterminer la nature de chaque groupe de neurones que vous avez trouvés à la section précédente.\n",
    "\n",
    "Expliquez votre méthodologie et dessinez quelques graphiques afin d'illustrer vos résultats.\n",
    "\n",
    "Quelle est la nature de chaque groupe de neurones? Quel groupe est le plus sensible? Lequel est le moins sensible? Justifiez vos réponse à l'aide des valeurs numériques données par la régression linéaire."
   ]
  },
  {
   "cell_type": "code",
   "execution_count": null,
   "id": "c51f2313-dfc5-4a18-b38d-98e4dd7a89a6",
   "metadata": {},
   "outputs": [],
   "source": []
  }
 ],
 "metadata": {
  "kernelspec": {
   "display_name": "Python 3 (ipykernel)",
   "language": "python",
   "name": "python3"
  },
  "language_info": {
   "codemirror_mode": {
    "name": "ipython",
    "version": 3
   },
   "file_extension": ".py",
   "mimetype": "text/x-python",
   "name": "python",
   "nbconvert_exporter": "python",
   "pygments_lexer": "ipython3",
   "version": "3.9.7"
  }
 },
 "nbformat": 4,
 "nbformat_minor": 5
}
