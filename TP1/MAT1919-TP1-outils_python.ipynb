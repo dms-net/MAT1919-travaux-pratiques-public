{
 "cells": [
  {
   "cell_type": "markdown",
   "metadata": {
    "Collapsed": "false",
    "tags": []
   },
   "source": [
    "Bienvenue au cours MAT1919 – Concepts mathématiques en neuroscience cognitive!\n",
    "====="
   ]
  },
  {
   "cell_type": "markdown",
   "metadata": {
    "Collapsed": "false"
   },
   "source": [
    "Nous sommes heureux de vous accueillir et nous espérons que vous aurez une expérience d'apprentissage agréable en notre compagnie. La session d'hiver 2022 est la session inaugurale de ce cours alors nous serions heureux d'entendre vos commentaires, que ce soit à propos d'un manque de clareté dans nos explicaitons ou d'une idée pour améliorer le cours. Bien sûr vos questions sont toujours les bienvenues, nous tenons à coeur de vous voir tous réussir et développer des outils qui vous aideront dans votre vie future!\n",
    "\n",
    "Ce premier laboratoire a pour but de faire un rappel de la syntaxe python et de vous introduire à différentes librairies numériques largement utilisées en science."
   ]
  },
  {
   "cell_type": "markdown",
   "metadata": {
    "Collapsed": "true",
    "tags": []
   },
   "source": [
    "Rappels de python et quelques notes sur la standardisation\n",
    "-----"
   ]
  },
  {
   "cell_type": "markdown",
   "metadata": {
    "Collapsed": "false"
   },
   "source": [
    "Les deux concepts principaux que nous rencontrerons en langage python dans ce cours sont les variables et les fonctions. Similairement à ce qu'on retrouve en mathématique, une variable est un nom abstrait donné à une valeur alors qu'une fonction est une suite d'instuctions qui utilise et parfois modifie des variables.\n",
    "\n",
    "Attention car en python l'indentation fait partie intégrale du code! L'indentation peut être effectuée avec des espaces ou des caractères «tab», mais les deux sont incompatibles. Dans ce cours nous suivrons la convention PEP8 qui utilise uniquement des espaces pour l'indentation. Nous recommendons fortement que vous survoliez le guide de style [PEP8](https://www.python.org/dev/peps/pep-0008/#documentation-strings) ainsi que la convention de documentation [PEP257](https://www.python.org/dev/peps/pep-0257/).\n",
    "\n",
    "Commençons par nous mouiller un peu les pieds avec quelques exemples de code."
   ]
  },
  {
   "cell_type": "code",
   "execution_count": 1,
   "metadata": {
    "Collapsed": "false"
   },
   "outputs": [
    {
     "name": "stdout",
     "output_type": "stream",
     "text": [
      "Bonjour Mon Nom!\n"
     ]
    }
   ],
   "source": [
    "n = \"Mon Nom\"\n",
    "\n",
    "def s(u):\n",
    "    m = \"Bonjour \"+u+\"!\"\n",
    "    print(m)\n",
    "    return len(m)\n",
    "\n",
    "l = s(n)"
   ]
  },
  {
   "cell_type": "markdown",
   "metadata": {
    "Collapsed": "false"
   },
   "source": [
    "Dans l'exemple ci-haut nous créons d'abord la variable «n». Nous définissons ensuite la fonction «s» et finalement nous «appellons» la fonction, c'est à dire que nous demandons à python d'exécuter la fonction.\n",
    "\n",
    "Vous avez peut-être remarqué que malgré le fait que notre code fonctionne correctement, il est très difficile pour un observateur de comprendre au premier coup d'oeil ce que chaque variable et fonction représente. Réécrivons les même instructions en suivant les conventions de nommages de PEP8!"
   ]
  },
  {
   "cell_type": "code",
   "execution_count": 2,
   "metadata": {
    "Collapsed": "false"
   },
   "outputs": [
    {
     "name": "stdout",
     "output_type": "stream",
     "text": [
      "Bonjour Mon Nom!\n"
     ]
    }
   ],
   "source": [
    "nom = \"Mon Nom\"\n",
    "\n",
    "def saluer_utilisateur(nom_utilisateur):\n",
    "    message = \"Bonjour \"+nom_utilisateur+\"!\"\n",
    "    print(message)\n",
    "    return len(message)\n",
    "\n",
    "longueur_message = saluer_utilisateur(nom)"
   ]
  },
  {
   "cell_type": "markdown",
   "metadata": {
    "Collapsed": "false"
   },
   "source": [
    "Voilà qui est beaucoup mieux! Même si le code a été un peu plus long à écrire, nommer ses variables et fonctions de façon claire vous fera gagner beaucoup plus de temps dans le futur lorsque vous aurez à vous relire. Sans compter que si vous travaillez en équipe ou si vous publiez votre code il sera infiniment plus simple pour d'autres lecteurs de comprendre votre programme.\n",
    "\n",
    "Selon la convention PEP8, les noms de variables et de fonctions devraient toujours être écrites en minuscule et les mots doivent être séparés par trait de soulignement «_».\n",
    "\n",
    "Une étape de plus que nous pouvons faire pour rendre notre code plus facile d'utilisation est d'annoter les variables. Ces annotations vont nous permettre de spécifier le type de nos variables. Bien que contrairement à la majorité des langages de programmation python ne requiert pas de déclarer le type des variables, ces annotations de type sont très utiles pour comprendre un code et surtout pour pouvoir utiliser rapidement des fonctions dont vous avez oublié le fonctionnement exact ou qui ont simplement été développées par un autre membre de votre équipe."
   ]
  },
  {
   "cell_type": "code",
   "execution_count": 3,
   "metadata": {
    "Collapsed": "false"
   },
   "outputs": [
    {
     "name": "stdout",
     "output_type": "stream",
     "text": [
      "Bonjour Mon Nom!\n"
     ]
    }
   ],
   "source": [
    "nom: str = \"Mon Nom\"\n",
    "\n",
    "def saluer_utilisateur(nom_utilisateur: str) -> int:\n",
    "    message: str = \"Bonjour \"+nom_utilisateur+\"!\"\n",
    "    print(message)\n",
    "    return len(message)\n",
    "\n",
    "longueur_message: int = saluer_utilisateur(nom)"
   ]
  },
  {
   "cell_type": "markdown",
   "metadata": {
    "Collapsed": "false"
   },
   "source": [
    "Dans cet exemple nous pouvons voir les trois endroits où l'on peut trouver des annotations de type. La première est tout de suite après avoir déclaré une variable mais avant de lui assigner une valeur. La deuxième et la troisième sont durant la déclaration d'une fonction, pour spécifier le type des variables que prennent la fonction en entrée ainsi que le type de la sortie. Dans les deux premiers cas on utilise les deux points «:» alors que dans le dernier cas on utilise un symbole de flèche formé d'un tiret et d'un chevron «->».\n",
    "\n",
    "Remarquez que les annotations de type sont optionnelles. Nous vous suggérons de les utiliser uniquement lorsque cela aide à la compréhension du code. Par exemple, dans cet exemple, nous pouvons laisser tomber les annotations pour la variable «message» ainsi que pour la variable «longueur_message» puisque le type est immédiatement évident par le contexte dans le premier cas et qu'il est déjà spécifié dans la déclaration de la fonction dans le deuxième cas.\n",
    "\n",
    "Notre dernière étape pour rendre notre code plus lisible est d'ajouter des commentaires et de la documentation. Pour la documentation nous allons utiliser la convention PEP257."
   ]
  },
  {
   "cell_type": "code",
   "execution_count": 4,
   "metadata": {
    "Collapsed": "false"
   },
   "outputs": [
    {
     "name": "stdout",
     "output_type": "stream",
     "text": [
      "Bonjour Mon Nom!\n"
     ]
    }
   ],
   "source": [
    "nom: str = \"Mon Nom\" # nom de l'utilisateur\n",
    "\n",
    "def saluer_utilisateur(nom_utilisateur: str) -> int:\n",
    "    \"\"\" Écrit un message de salutation à l'utilisateur dans la console puis renvoie la longueur du message.\n",
    "    \n",
    "    Arguments:\n",
    "    nom_utilisateur -- nom de l'utilisateur à saluer\n",
    "    \"\"\"\n",
    "    message = \"Bonjour \"+nom_utilisateur+\"!\"\n",
    "    print(message)\n",
    "    return len(message)\n",
    "\n",
    "longueur_message = saluer_utilisateur(nom)"
   ]
  },
  {
   "cell_type": "markdown",
   "metadata": {
    "Collapsed": "false"
   },
   "source": [
    "Commenter votre code est très important pour toutes les raisons déjà mentionnées plus haut! Vous pouvez écrire un commentaire d'une ligne en utilisant le dièse «#» ou un commentaire de plusieurs lignes en utilisant trois guillemets «\"\"\"» au début et à la fin du commentaire. Le commentaire suivant immédiatement la définition de la fonction est un commentaire spécial nommé «documentation» ou en anglais «docstring». Ce type de commentaire est standardisé et peut être lu et utilisé par plusieurs environnements de développement et autres applications tièrces. Habituez-vous tout de suite à écrire votre documentation en même temps que votre code et vous gagnerez beaucoup de temps lorsque viendra le temps de développer des projets de plus grande envergure!"
   ]
  },
  {
   "cell_type": "markdown",
   "metadata": {
    "Collapsed": "false"
   },
   "source": [
    "### À votre tour!\n",
    "\n",
    "Écrivez une fonction simple qui prend au moins un argument en entrée et renvoie une variable en sortie. N'oubliez pas de bien annoter et commenter votre code!"
   ]
  },
  {
   "cell_type": "code",
   "execution_count": null,
   "metadata": {
    "Collapsed": "false"
   },
   "outputs": [],
   "source": []
  },
  {
   "cell_type": "markdown",
   "metadata": {
    "Collapsed": "true",
    "jp-MarkdownHeadingCollapsed": true,
    "tags": []
   },
   "source": [
    "La librairie Numpy\n",
    "-----"
   ]
  },
  {
   "cell_type": "markdown",
   "metadata": {
    "Collapsed": "true"
   },
   "source": [
    "La librairie numpy est l'une des librairies python les plus utilisées en science. Elle permet de manipuler des vecteurs et des matrices de façon beaucoup plus agréable pour nous les programmeurs et augmente grandement la vitesse d'exécution du code. Vous pouvez retrouver la documentation de numpy [ici](https://numpy.org/doc/1.21/).\n",
    "\n",
    "La grande majorité des utilisateurs importent numpy sous le nom «np». Quand vous verrez à quelle fréquence vous utiliserez la librairie, vous comprendrez pourquoi! Pour commencer à utiliser numpy, vous pouvez simplement utiliser sa fonction «array» pour transformer une liste python standard en liste numpy."
   ]
  },
  {
   "cell_type": "code",
   "execution_count": 5,
   "metadata": {
    "Collapsed": "false"
   },
   "outputs": [],
   "source": [
    "import numpy as np # on importe la librairie numpy sous le nom «np»"
   ]
  },
  {
   "cell_type": "code",
   "execution_count": 6,
   "metadata": {
    "Collapsed": "false"
   },
   "outputs": [
    {
     "name": "stdout",
     "output_type": "stream",
     "text": [
      "[[0, 1], [2, 3]]\n"
     ]
    }
   ],
   "source": [
    "m = [[0, 1], [2, 3]] # définition traditionnelle d'une matrice sous forme de liste python\n",
    "print(m) # voyons voir à quoi ressemble notre matrice"
   ]
  },
  {
   "cell_type": "code",
   "execution_count": 7,
   "metadata": {
    "Collapsed": "false"
   },
   "outputs": [
    {
     "name": "stdout",
     "output_type": "stream",
     "text": [
      "[[0 1]\n",
      " [2 3]]\n"
     ]
    }
   ],
   "source": [
    "m_numpy = np.array(m) # transformons notre liste python en matrice numpy\n",
    "print(m_numpy) # et voyons de quoi a l'air notre matrice à présent"
   ]
  },
  {
   "cell_type": "markdown",
   "metadata": {
    "Collapsed": "false"
   },
   "source": [
    "Déjà on remarque une différence! Bien qu'une matrice numpy se comporte souvent de façon semblable à une liste python, la librairie optimise une foule d'opérations pour vous rendre la vie plus facile.\n",
    "\n",
    "Mais numpy n'est pas seulement une librairie pour les matrices. Elle comporte également une foule de fonctions mathématiques."
   ]
  },
  {
   "cell_type": "code",
   "execution_count": 8,
   "metadata": {
    "Collapsed": "false"
   },
   "outputs": [
    {
     "name": "stdout",
     "output_type": "stream",
     "text": [
      "Sinus de Pi/2:\n",
      "1.0\n",
      "Racine carrée de 2:\n",
      "1.4142135623730951\n"
     ]
    }
   ],
   "source": [
    "print(\"Sinus de Pi/2:\")\n",
    "print(np.sin(np.pi/2))\n",
    "print(\"Racine carrée de 2:\")\n",
    "print(np.sqrt(2))"
   ]
  },
  {
   "cell_type": "markdown",
   "metadata": {
    "Collapsed": "false"
   },
   "source": [
    "Voyons maintenant un exemple simple de ce que numpy nous permet de faire. Nous allons effectuer une rotation sur un vecteur en utilisant une matrice de rotation."
   ]
  },
  {
   "cell_type": "code",
   "execution_count": 9,
   "metadata": {
    "Collapsed": "false"
   },
   "outputs": [
    {
     "name": "stdout",
     "output_type": "stream",
     "text": [
      "[ 0.70710678 -0.70710678]\n"
     ]
    }
   ],
   "source": [
    "v = np.array([1,0]) # notre vecteur d'origine pointant dans la direction des x positifs\n",
    "theta = np.pi/4 # l'angle de rotation en radians (dans ce cas 1/8ème de tour)\n",
    "m = np.array([[np.cos(theta), -np.sin(theta)], [np.sin(theta), np.cos(theta)]]) # notre matrice de rotation\n",
    "\n",
    "v = np.matmul(v, m) # il suffit maintenant d'effectuer une multiplication matricielle standard\n",
    "print(v) # et on obtient le résultat désiré!"
   ]
  },
  {
   "cell_type": "markdown",
   "metadata": {
    "Collapsed": "false"
   },
   "source": [
    "### À votre tour!\n",
    "\n",
    "Créez un vecteur numpy où les valeurs vont de 0 à 10 et progressent par bonds de 0.1. Utilisez la documentation de numpy pour trouver quelle fonction vous permet de créer ce vecteur efficacement."
   ]
  },
  {
   "cell_type": "code",
   "execution_count": null,
   "metadata": {
    "Collapsed": "false"
   },
   "outputs": [],
   "source": []
  },
  {
   "cell_type": "markdown",
   "metadata": {
    "Collapsed": "false",
    "tags": []
   },
   "source": [
    "Lire et sauvegarder des fichiers\n",
    "-----"
   ]
  },
  {
   "cell_type": "markdown",
   "metadata": {
    "Collapsed": "false"
   },
   "source": [
    "Vous avez de nombreuses façon de sauvegarder des informations sous forme de fichier avec python. Ici nous en montrons deux, soit la méthode classique avec python seulement et la méthode avec numpy.\n",
    "\n"
   ]
  },
  {
   "cell_type": "markdown",
   "metadata": {},
   "source": [
    "Python possède une librairie intégrée pour lire et écrire dans des fichiers. Cette librairie est très versatile car elle permet d'ouvrir n'importe quel type de fichier texte mais elle est aussi peu efficace dans la plupart des cas. Nous allons tout de même présenter cette méthode car vous en aurez sûrement besoin de temps en temps.\n",
    "\n",
    "Voici comment écrire dans un fichier:"
   ]
  },
  {
   "cell_type": "code",
   "execution_count": 10,
   "metadata": {},
   "outputs": [],
   "source": [
    "fichier = open(\"fichier_exemple.txt\",\"w\")\n",
    "fichier.write(\"Bonjour monde!\")\n",
    "fichier.close()"
   ]
  },
  {
   "cell_type": "markdown",
   "metadata": {},
   "source": [
    "Lire un fichier est très semblable. Vous pouvez lire le fichier au complet en un coup avec la fonction *read* ou le lire ligne par ligne avec la fonction *readline*."
   ]
  },
  {
   "cell_type": "code",
   "execution_count": 11,
   "metadata": {},
   "outputs": [
    {
     "name": "stdout",
     "output_type": "stream",
     "text": [
      "Bonjour monde!\n"
     ]
    }
   ],
   "source": [
    "fichier = open(\"fichier_exemple.txt\",\"r\")\n",
    "print(fichier.read())\n",
    "fichier.close()"
   ]
  },
  {
   "cell_type": "markdown",
   "metadata": {},
   "source": [
    "N'oubliez pas de fermer votre fichier lorsque vous avez fini de l'utiliser!"
   ]
  },
  {
   "cell_type": "markdown",
   "metadata": {},
   "source": [
    "La plupart du temps dans ce cours nous allons plutôt utiliser les fonctions d'écriture et de lecture de numpy. Un fichier numpy est compressé de façon beaucoup plus efficace qu'un fichier texte mais il peut seulement contenir des array numpy. Voici comment sauvegarder une matrice numpy dans un fichier:"
   ]
  },
  {
   "cell_type": "code",
   "execution_count": 12,
   "metadata": {},
   "outputs": [],
   "source": [
    "matrice_exemple = np.array([[1,2],[3,4]])\n",
    "np.save(\"fichier_numpy_exemple.npy\", matrice_exemple)"
   ]
  },
  {
   "cell_type": "markdown",
   "metadata": {},
   "source": [
    "Et voici comment lire le fichier:"
   ]
  },
  {
   "cell_type": "code",
   "execution_count": 13,
   "metadata": {},
   "outputs": [
    {
     "name": "stdout",
     "output_type": "stream",
     "text": [
      "[[1 2]\n",
      " [3 4]]\n"
     ]
    }
   ],
   "source": [
    "matrice_exemple = np.load(\"fichier_numpy_exemple.npy\")\n",
    "print(matrice_exemple)"
   ]
  },
  {
   "cell_type": "markdown",
   "metadata": {},
   "source": [
    "### À votre tour!\n",
    "\n"
   ]
  },
  {
   "cell_type": "markdown",
   "metadata": {},
   "source": [
    "Lisez le fichier matrice_3D.npy et créez trois vecteurs depuis les données représentants les coordonnées des points dans chaque dimension."
   ]
  },
  {
   "cell_type": "code",
   "execution_count": null,
   "metadata": {},
   "outputs": [],
   "source": []
  },
  {
   "cell_type": "markdown",
   "metadata": {
    "Collapsed": "false",
    "tags": []
   },
   "source": [
    "La librairie sympy\n",
    "-----"
   ]
  },
  {
   "cell_type": "markdown",
   "metadata": {
    "Collapsed": "true"
   },
   "source": [
    "Généralement les solutions aux équations données par python sont purement numériques. Bien que ce type de représentation soit suffisante pour plusieurs applications, il est parfois nécessaire d'obtenir la solution analytique à certaines équations. C'est justement l'utilité de la librairie sympy. sympy est une librairie de calcul symbolique, c'est à dire qu'elle permet d'effectuer des opérations directement sur des équations mathématiques plutôt que sur leur approximations numériques.\n",
    "\n",
    "La documentation de sympy se trouve [ici](https://docs.sympy.org/latest/index.html).\n",
    "\n",
    "Réécrivons les mêmes équations que nous avions utilisées pour tester numpy, mais cette fois avec sympy."
   ]
  },
  {
   "cell_type": "code",
   "execution_count": 14,
   "metadata": {
    "Collapsed": "false"
   },
   "outputs": [],
   "source": [
    "import sympy as sp"
   ]
  },
  {
   "cell_type": "code",
   "execution_count": 15,
   "metadata": {
    "Collapsed": "false"
   },
   "outputs": [
    {
     "name": "stdout",
     "output_type": "stream",
     "text": [
      "Sinus de Pi/2:\n",
      "1\n",
      "Racine carrée de 2:\n",
      "sqrt(2)\n"
     ]
    }
   ],
   "source": [
    "print(\"Sinus de Pi/2:\")\n",
    "print(sp.sin(sp.pi/2))\n",
    "print(\"Racine carrée de 2:\")\n",
    "print(sp.sqrt(2))"
   ]
  },
  {
   "cell_type": "markdown",
   "metadata": {
    "Collapsed": "false"
   },
   "source": [
    "On voit que dans le premier cas où la solution est un nombre entier, numpy nous donnait une approximation de la solution alors que sympy nous donne une solution exacte. Dans le cas de la racine carrée, comme la solution est un nombre irrationnel, sympy renvoie l'équation symbolique plutôt qu'une approximation numérique comme numpy nous avait donné.\n",
    "\n",
    "On peut demander à sympy de nous donner une solution numérique approximative grâce à la fonction evalf."
   ]
  },
  {
   "cell_type": "code",
   "execution_count": 16,
   "metadata": {
    "Collapsed": "false"
   },
   "outputs": [
    {
     "name": "stdout",
     "output_type": "stream",
     "text": [
      "1.41421356237310\n"
     ]
    }
   ],
   "source": [
    "expr = sp.sqrt(2)\n",
    "print(expr.evalf())"
   ]
  },
  {
   "cell_type": "markdown",
   "metadata": {
    "Collapsed": "false"
   },
   "source": [
    "On peut également utiliser des paramètres et des variables dépendantes dans nos équations en déclarant au préalable les symboles que nous allons utiliser."
   ]
  },
  {
   "cell_type": "code",
   "execution_count": 17,
   "metadata": {
    "Collapsed": "false"
   },
   "outputs": [
    {
     "name": "stdout",
     "output_type": "stream",
     "text": [
      "sin(θ)\n",
      "1\n"
     ]
    }
   ],
   "source": [
    "theta = sp.symbols(\"θ\")\n",
    "expr = sp.sin(theta)\n",
    "print(expr)\n",
    "print(expr.subs(theta, sp.pi/2))"
   ]
  },
  {
   "cell_type": "markdown",
   "metadata": {
    "Collapsed": "false"
   },
   "source": [
    "### À votre tour!\n",
    "\n",
    "Utilisez sympy pour résoudre l'équation du modèle de neurone intégration-et-tir parfait:\n",
    "\n",
    "$$I(t)=C\\frac{dV(t)}{dt}$$\n",
    "\n",
    "lorsque la fonction $V$ est donnée par la fonction sinus: $V(t)=\\sin(t)$. Vous pouvez trouver comment programmer une dérivée dans la documentation de sympy."
   ]
  },
  {
   "cell_type": "code",
   "execution_count": null,
   "metadata": {
    "Collapsed": "false"
   },
   "outputs": [],
   "source": []
  },
  {
   "cell_type": "markdown",
   "metadata": {
    "Collapsed": "false",
    "tags": []
   },
   "source": [
    "La librairie matplotlib\n",
    "-----"
   ]
  },
  {
   "cell_type": "markdown",
   "metadata": {
    "Collapsed": "true"
   },
   "source": [
    "Il est souvent utile lorsqu'on crée un modèle informatique d'un phénomène physique de pouvoir visualiser les données avec lesquelles on travaille. La librairie matplotlib permet de rapidement pouvoir transformer des données numériques en graphique. Elle offre également une foule d'outils qui vous permettra de créer des graphiques complexes lorsque viendra le temps de présenter vos résultats. On retrouve la documentation de la librairie matplotlib [ici](https://matplotlib.org/stable/contents.html#).\n",
    "\n",
    "La plupart du temps lorsque vous utiliserez la librairie matplotlib vous utiliserez en fait sa sous-librairie pyplot. pyplot offre les options les plus simples et les plus souvent utilisées de matplotlib avec une grammaire simplifiée. La librairie pyplot est usuellement importée sous le nom plt."
   ]
  },
  {
   "cell_type": "code",
   "execution_count": 18,
   "metadata": {
    "Collapsed": "false"
   },
   "outputs": [],
   "source": [
    "import matplotlib.pyplot as plt # on importe la sous-librairie pyplot depuis la librairie matplotlib"
   ]
  },
  {
   "cell_type": "markdown",
   "metadata": {
    "Collapsed": "false"
   },
   "source": [
    "Commençons avec un exemple simple en dessinant une courbe polynomiale du troisième degré."
   ]
  },
  {
   "cell_type": "code",
   "execution_count": 19,
   "metadata": {
    "Collapsed": "false"
   },
   "outputs": [
    {
     "data": {
      "text/plain": [
       "[<matplotlib.lines.Line2D at 0x19138618730>]"
      ]
     },
     "execution_count": 19,
     "metadata": {},
     "output_type": "execute_result"
    },
    {
     "data": {
      "image/png": "[encoded data removed]",
      "text/plain": [
       "<Figure size 432x288 with 1 Axes>"
      ]
     },
     "metadata": {
      "needs_background": "light"
     },
     "output_type": "display_data"
    }
   ],
   "source": [
    "x = np.arange(-5,5,0.1)\n",
    "y = x**3 - 5*x\n",
    "\n",
    "plt.figure()\n",
    "plt.xlabel(\"x\")\n",
    "plt.ylabel(\"y\")\n",
    "plt.title(\"Fonction x^3-5x\")\n",
    "plt.grid()\n",
    "plt.plot(x,y)"
   ]
  },
  {
   "cell_type": "markdown",
   "metadata": {
    "Collapsed": "false"
   },
   "source": [
    "### À votre tour\n",
    "\n",
    "Grâce à matplotlib vous pouvez également créer des graphiques en trois dimensions. Dessinez la courbe en trois dimensions décrite par les données fournies que vous avez lues depuis le fichier tantôt. Vous trouverez les informations pour créer des graphiques 3D dans la documentation de matplotlib. Indice: vous devrez importer un module supplémentaire de matplotlib pour y arriver.\n",
    "\n",
    "N'oubliez pas de bien identifier vos axes et de donner un titre à votre graphique!"
   ]
  },
  {
   "cell_type": "code",
   "execution_count": null,
   "metadata": {
    "Collapsed": "false"
   },
   "outputs": [],
   "source": []
  },
  {
   "cell_type": "markdown",
   "metadata": {
    "Collapsed": "true",
    "jp-MarkdownHeadingCollapsed": true,
    "tags": []
   },
   "source": [
    "La librairie scipy\n",
    "-----"
   ]
  },
  {
   "cell_type": "markdown",
   "metadata": {
    "Collapsed": "true"
   },
   "source": [
    "scipy fait à la fois référence à un groupe de librairies scientifiques pour python dont numpy, sympy et matplotlib font partie, et à une librairie de fonctions numériques avancées. scipy propose une foule de fonctions optimisées pour la rapidité de d'éxécution dont des fonctions d'intégration, d'optimisation, la transformée de Fourier, des fonctions statistiques et bien plus encore.\n",
    "\n",
    "Vous pouvez retrouver la documentation pour la librairie scipy [ici](https://docs.scipy.org/doc/scipy-1.7.1/reference/tutorial/index.html#user-guide). La librairie scipy est souvent utilisée en conjonction avec numpy, et rarement par elle-même. C'est pourquoi nous ne verrons pas ici d'exemples spécifiques à scipy. Pour l'instant il vous suffit de vous rappeller que si vous recherchez une fonction mathématique complexe mais que vous ne la trouvez pas dans la documentation de numpy, elle se retrouve probablement dans la librairie scipy."
   ]
  },
  {
   "cell_type": "markdown",
   "metadata": {
    "Collapsed": "true"
   },
   "source": [
    "Laboratoire\n",
    "====="
   ]
  },
  {
   "cell_type": "markdown",
   "metadata": {
    "Collapsed": "true"
   },
   "source": [
    "Maintenant que vous en avez apris un peu plus sur les librairies python, il est temps de tester vos nouvelles connaissances.\n",
    "\n",
    "<img src=spirographe.jpg width=700>\n",
    "\n",
    "Le spirographe est un jouet pour enfant qui permet de dessiner de jolies courbes. Dans ce laboratoire, nous allons utiliser python pour créer un spirographe virtuel!\n",
    "\n",
    "Tout d'abord, en effectuant une recherche sur internet, trouvez une équation pour une courbe que peut produire un spirographe. Indice: vous devriez obtenir deux équations dépendantes du temps, $x(t)$ et $y(t)$, et ces équations devraient comporter quelques paramètres qui affectent la forme de la courbe. En utilisant la librairie sympy, écrivez ces deux équations."
   ]
  },
  {
   "cell_type": "code",
   "execution_count": null,
   "metadata": {
    "Collapsed": "false"
   },
   "outputs": [],
   "source": []
  },
  {
   "cell_type": "markdown",
   "metadata": {
    "Collapsed": "false"
   },
   "source": [
    "En utilisant les équations que vous avez définies, créez maintenant des vecteurs numpy décrivant la trajectoire de la courbe du spirographe. Commencez par créer un vecteur $t$ qui échantillonne le temps à des intervals réguliers. Calculez ensuite les vecteurs de position $x$ et $y$ à ces différents moments. Pour ce faire, fixez les paramètres à une valeur quelconque. Assurez-vous de définir ces paramètres dans des variables dûement identifiées et annotées pour que vous puissiez plus tard facilement expérimenter avec différentes valeurs."
   ]
  },
  {
   "cell_type": "code",
   "execution_count": null,
   "metadata": {
    "Collapsed": "false"
   },
   "outputs": [],
   "source": []
  },
  {
   "cell_type": "markdown",
   "metadata": {
    "Collapsed": "false"
   },
   "source": [
    "Maintenant que vous avez la trajectoire de votre courbe dans le temps, il ne reste plus qu'à la dessiner. En utilisant matplotlib, dessinez la courbe produite par votre spirographe virtuel."
   ]
  },
  {
   "cell_type": "code",
   "execution_count": null,
   "metadata": {
    "Collapsed": "false"
   },
   "outputs": [],
   "source": []
  },
  {
   "cell_type": "markdown",
   "metadata": {
    "Collapsed": "false"
   },
   "source": [
    "À présent, créez une image semblable à celle sur la photo en calculant une deuxième trajectoire avec des paramètre différents de ceux utilisés pour votre première courbe. Dessinez les deux courbes sur le même graphique matplotlib en utilisant des couleurs différentes pour chacune."
   ]
  },
  {
   "cell_type": "code",
   "execution_count": null,
   "metadata": {
    "Collapsed": "false"
   },
   "outputs": [],
   "source": []
  },
  {
   "cell_type": "markdown",
   "metadata": {
    "Collapsed": "false"
   },
   "source": [
    "N'hésitez pas à venir nous consulter si vous vous retrouvez incertain de la marche à suivre à une certaine étape. Nous vous encourageons également à continuer d'expérimenter avec votre spirographe virtuel. Variez les paramètres ou essayez d'autres équations et voyez quelle images vous pouvez créer! Bon laboratoire :)"
   ]
  }
 ],
 "metadata": {
  "kernelspec": {
   "display_name": "Python 3 (ipykernel)",
   "language": "python",
   "name": "python3"
  },
  "language_info": {
   "codemirror_mode": {
    "name": "ipython",
    "version": 3
   },
   "file_extension": ".py",
   "mimetype": "text/x-python",
   "name": "python",
   "nbconvert_exporter": "python",
   "pygments_lexer": "ipython3",
   "version": "3.9.7"
  }
 },
 "nbformat": 4,
 "nbformat_minor": 4
}
