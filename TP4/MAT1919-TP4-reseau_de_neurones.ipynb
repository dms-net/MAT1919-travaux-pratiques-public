{
 "cells": [
  {
   "cell_type": "markdown",
   "id": "ebf0ee5a-7638-45cc-8ace-5968335700db",
   "metadata": {},
   "source": [
    "Entraînement et interprétation d'un réseau de neurones\n",
    "====="
   ]
  },
  {
   "cell_type": "markdown",
   "id": "586f85fa-7fef-4129-b718-fe8da40b0eef",
   "metadata": {},
   "source": [
    "Dans ce laboratoire nous allons créer, entraîner et interpréter les résultats d'un réseau de neurone. D'abord, définissons les paramètres de notre réseau de neurones.\n",
    "\n",
    "Comme nous allons entraîner notre réseau avec l'algorithme du gradient, il faudra utiliser la dérivée de la fonction représentant le modèle de neurone choisi. Ce serait plus facile à faire si nous avions une fonction continue au comportement relativement simple. On va donc préférer un modèle de neurone à fréquence de tir plutôt qu'un modèle de neurone à impulsion. Souvenons-nous du modèle à fréquence de tir que nous avons défini dans le TP2. La fonction associée était de la forme\n",
    "$$f(x)=\\left\\{0\\text{ pour }x<x_0,\\ -\\frac{1}{ln\\left(1-\\frac{x_0}{x}\\right)}\\text{ pour }x\\geq x_0\\right\\}$$"
   ]
  },
  {
   "cell_type": "code",
   "execution_count": 1,
   "id": "e646cb34-9e50-4028-8197-a5291f0ce5f5",
   "metadata": {},
   "outputs": [
    {
     "data": {
      "text/plain": [
       "Text(0.5, 1.0, 'f(x)')"
      ]
     },
     "execution_count": 1,
     "metadata": {},
     "output_type": "execute_result"
    },
    {
     "data": {
      "image/png": "[encoded data removed]",
      "text/plain": [
       "<Figure size 432x288 with 1 Axes>"
      ]
     },
     "metadata": {
      "needs_background": "light"
     },
     "output_type": "display_data"
    }
   ],
   "source": [
    "import numpy as np\n",
    "import matplotlib.pyplot as plt\n",
    "\n",
    "x = np.arange(0,5,0.01)\n",
    "def f(x):\n",
    "    return np.piecewise(x, [x<=1, x>1], [0, lambda x: -1/np.log(1-1/x)])\n",
    "y = f(x)\n",
    "\n",
    "plt.plot(x,y)\n",
    "plt.xlabel(\"x\")\n",
    "plt.title(\"f(x)\")"
   ]
  },
  {
   "cell_type": "markdown",
   "id": "6ed4072f-4a1c-41cc-b976-d77e70fcd5b2",
   "metadata": {},
   "source": [
    "Cette fonction est plutôt complexe pour nos besoins mais on peut approximer la forme de cette fonction avec la fonction beaucoup plus simple RELU. La fontion RELU est définie ainsi:\n",
    "$$RELU(x)=\\{0\\text{ pour }x<0,\\ x\\text{ pour }x\\geq 0\\}$$"
   ]
  },
  {
   "cell_type": "code",
   "execution_count": 2,
   "id": "0215dc3c-64e6-43b8-99e8-8e371dae9bfa",
   "metadata": {},
   "outputs": [
    {
     "data": {
      "text/plain": [
       "Text(0.5, 1.0, 'RELU(x)')"
      ]
     },
     "execution_count": 2,
     "metadata": {},
     "output_type": "execute_result"
    },
    {
     "data": {
      "image/png": "[encoded data removed]",
      "text/plain": [
       "<Figure size 432x288 with 1 Axes>"
      ]
     },
     "metadata": {
      "needs_background": "light"
     },
     "output_type": "display_data"
    }
   ],
   "source": [
    "x = np.arange(-2.5,2.5,0.01)\n",
    "def RELU(x):\n",
    "    return np.piecewise(x, [x<=0, x>0], [0, lambda x: x])\n",
    "y = RELU(x)\n",
    "\n",
    "plt.plot(x,y)\n",
    "plt.xlabel(\"x\")\n",
    "plt.title(\"RELU(x)\")"
   ]
  },
  {
   "cell_type": "markdown",
   "id": "1ad8df68-caaf-46c1-91c9-3738d7b2c171",
   "metadata": {},
   "source": [
    "On remarque que la fonction RELU est translatée vers les $x$ négatifs par rapport à la fonction pour notre neurone biologique. Cela aurait de l'importance pour un réseau basé plus strictement sur un réseau de neurone biologique, mais dans notre cas nous allons utiliser un réseau avec un haut niveau d'abstraction mathématique. L'emplacement exact du changement entre les deux parties de la fonction n'aura donc pas d'impact sur les résultats. Par convention et pour nous faciliter la vie nous mettons donc le changement de régime à $x=0$."
   ]
  },
  {
   "cell_type": "markdown",
   "id": "b5053b4f-11b2-4771-b37e-1dc3077dbec7",
   "metadata": {},
   "source": [
    "Maintenant que nous avons décidé d'un modèle de neurone, il faut maintenant définir la structure du réseau, c'est à dire comment les différents neurones sont connectés les uns aux autres. Nous allons choisir un modèle simple et bien connu qu'on appelle un réseau «feedforward» avec une seule couche «cachée». Les neurones de la couche cachée sont indépendants en on prend une combinaison linéaire de leurs tensions pour obtenir la sortie du réseau. On représente ce réseau dans la figure suivante."
   ]
  },
  {
   "cell_type": "markdown",
   "id": "7daaca6e-38df-404b-8e60-f93f922aa7a1",
   "metadata": {},
   "source": [
    "![schema_reseau_neurones.png](schema_reseau_neurones.png)"
   ]
  },
  {
   "cell_type": "markdown",
   "id": "77c6074c-209a-4509-8503-3adb451e801e",
   "metadata": {},
   "source": [
    "Mathématiquement, voici comment on défini ce réseau. Soit $x$ le vecteur des données en entrée, $h$ le vecteur représentant la tension dans les neurones cachées et $o$ la sortie du réseau. Et soit $W_h$ les connections entre les canaux d'entrée et les neurones, $W_o$ les connections entre les neurones et la sortie et $\\sigma$ la fonction dite d'activation des neurones (c'est à dire la fonction définissant notre modèle de neurone). Alors le réseau est défini ainsi.\n",
    "$$h=\\sigma(W_h x)$$\n",
    "$$o=W_o h$$"
   ]
  },
  {
   "cell_type": "markdown",
   "id": "aea2fcb9-4612-47be-89b5-40a0cd692feb",
   "metadata": {},
   "source": [
    "Pour ce devoir, on considère la tâche suivante: On a des points $p$ dans le cercle de rayon $r=3$. On veut séparer ces points en deux catégories: les points dans le cercle $r\\leq 1$ seront dans la classe $0$ et ceux dans le disque $1<r\\leq 3$ dans la classe $1$. On va entraîner notre réseau à classer les points dans le bon groupe en fonction de leur position en $x$ et $y$."
   ]
  },
  {
   "cell_type": "markdown",
   "id": "557f485f-65e9-4f55-97b7-e72f0aed8210",
   "metadata": {},
   "source": [
    "Étape 1: Créez l'ensemble d'entraînement\n",
    "-----\n",
    "\n",
    "Créez un ensemble de 1000 points en coordonées cartésiennes dans un tableau numpy de taille $1000\\times 2$ et créez un deuxième vecteur avec la classe de chaque point. Nommez le tableau \"x\" et le vecteur \"y\"."
   ]
  },
  {
   "cell_type": "code",
   "execution_count": null,
   "id": "4164e858-2848-4e2d-a96b-fdc66c3e9852",
   "metadata": {},
   "outputs": [],
   "source": []
  },
  {
   "cell_type": "markdown",
   "id": "03c56bdf-6bec-4fce-bddd-18c83b4a8311",
   "metadata": {},
   "source": [
    "Étape 2: Créez le réseau de neurones\n",
    "-----\n",
    "\n",
    "Créez d'abord les matrices $W_h$ et $W_o$. Nous utiliserons trois neurones dans la couche cachée, déterminez la taille des matrices en conséquence. Vous pouvez initialiser les valeurs des poids entre $-1$ et $1$."
   ]
  },
  {
   "cell_type": "code",
   "execution_count": null,
   "id": "235040ac-355c-4a46-826f-e441ee5475f6",
   "metadata": {},
   "outputs": [],
   "source": []
  },
  {
   "cell_type": "markdown",
   "id": "a1f61eb0-3f1a-4604-a214-af5fc44a5acf",
   "metadata": {},
   "source": [
    "Créez maintenant une fonction python selon les spécifications plus haut. Retournez un objet de type dictionaire contenant le vecteur $h$ et le résultat $o$. Toutes les opérations doivent être vectorisées, c'est-à-dire que vous devez utiliser les fonctions numpy et non des boucles python. Vous pouvez utiliser la fonction RELU définie dans les instructions."
   ]
  },
  {
   "cell_type": "code",
   "execution_count": null,
   "id": "bd9b7a40-1a49-42b4-9849-8ed1b605b37f",
   "metadata": {},
   "outputs": [],
   "source": []
  },
  {
   "cell_type": "markdown",
   "id": "c7e83788-d984-4ea4-a649-7b919b2d0fe1",
   "metadata": {},
   "source": [
    "Étape 3: Créez la fonction d'entraînement\n",
    "-----\n",
    "\n",
    "Pour entraîner le réseau, il nous faut d'abord définir une fonction d'erreur. Dans notre cas nous utiliserons la fonction d'erreur quadratique moyenne. Pour un ensemble de points de catégorie $y$ et de catégorie prédite $o$, l'erreur quadratique moyenne est définie comme\n",
    "$$e(y,o)=\\frac{1}{n}\\sum_{i=1}^n (o_i-y_i)^2$$\n",
    "Écrivez cette fonction en python pour notre cas. Indice: la sortie contient un seul élément dans notre cas (ie $n=1$)"
   ]
  },
  {
   "cell_type": "code",
   "execution_count": null,
   "id": "780d67e1-f665-4ef9-a666-3fb380256861",
   "metadata": {},
   "outputs": [],
   "source": []
  },
  {
   "cell_type": "markdown",
   "id": "cb8a0b9b-6c02-4ec7-8927-23d561ac1b33",
   "metadata": {},
   "source": [
    "Définissez la fonction d'optimisation des poids en utilisant l'algorithme de descente du gradient. Vous devez minimiser l'erreur en fonction des poids. On veut entraîner les poids des deux matrices alors vous aurez besoin de deux fonctions. Encore une fois assurez-vous que vos fonctions sont vectorisées."
   ]
  },
  {
   "cell_type": "code",
   "execution_count": null,
   "id": "22cf9785-e8f5-437e-85f9-aa5394267462",
   "metadata": {},
   "outputs": [],
   "source": []
  },
  {
   "cell_type": "markdown",
   "id": "c3d9882d-2eac-412d-bd45-b2e15693b71a",
   "metadata": {},
   "source": [
    "À partir de maintenant, vous avez droit aux boucles python. Nous allons entraîner notre résau pour qu'il accomplisse la tâche demandée. Lorsqu'on travaille avec un réseau de neurones, en général, on ne peut pas trouver analytiquement la fonction d'erreur. On va donc approximer cette fonction grâce à plusieurs points.\n",
    "\n",
    "Pour chaque point de votre ensemble d'entraînement, calculez l'erreur associée au couple de données $x$, $y$. Calculez ensuite les gradients associés à ce point. Faites une moyenne de toutes les erreurs et de tous les gradients et ajustez les poids selon les gradients moyens. Utilisez la valeur $\\lambda=0,02$ dans l'algorithme de descente du gradient. Ceci correspond à une époque d'entraînement. Exécutez 800 époques d'entraînement en conservant l'erreur moyenne pour chaque époque dans une liste."
   ]
  },
  {
   "cell_type": "code",
   "execution_count": null,
   "id": "5695df85-345e-4f95-a363-34cc6913b606",
   "metadata": {},
   "outputs": [],
   "source": []
  },
  {
   "cell_type": "markdown",
   "id": "8085c8f8-3f2a-4902-9eb6-99cc035f7efc",
   "metadata": {},
   "source": [
    "Dessinez le tableau de l'erreur moyenne par époque. L'erreur devrait être strictement décroissante. Si ce n'est pas le cas, revérifiez les équations pour le gradient. On veut obtenir une erreur moyenne plus petite que $0,2$. Si votre fonction d'erreur est décroissante mais que l'erreur ne descend pas en bas de $0,2$, il se peut que le processus d'optimisation se soit simplement retrouvé coincé dans un minimum local. Réexécutez l'ensemble du code jusqu'à ce que l'erreur moyenne descende en bas de $0,2$ (vous devriez seulement avoir à réexécuter le code deux ou trois fois au maximum). Vous pouvez utiliser un seed de génération aléatoire qui fonctionne si vous le voulez."
   ]
  },
  {
   "cell_type": "code",
   "execution_count": null,
   "id": "9cbd4adf-5c89-488d-a0a4-ba7768f2ad9d",
   "metadata": {},
   "outputs": [],
   "source": []
  },
  {
   "cell_type": "markdown",
   "id": "46111b93-3c41-47e5-9945-9817c88f4d37",
   "metadata": {},
   "source": [
    "Étape 4: Analyse du réseau\n",
    "-----\n",
    "\n",
    "Maintenant que l'on a réussi à entraîner un réseau de neurones, on aimerait comprendre comment il fonctionne. Cette étape est encore impossible pour beaucoup de réseaux plus complexes, mais pour un réseau simple comme celui-ci, on peut souvent comprendre comment la solution est implémentée."
   ]
  },
  {
   "cell_type": "markdown",
   "id": "ff50995f-c720-4bb1-9ef4-b08fc885bcb1",
   "metadata": {},
   "source": [
    "À l'aide de la fonction coutourf de pyplot, dessinez la fonction apprise par votre réseau de neurones (ie calculez la valeur de sortie du réseau pour chaque point sur une grille). Assurez-vous de mettre en forme correctement votre graphique. Une personne lisant votre rapport devrait être capable de comprendre le graphique avec un minimum de contexte."
   ]
  },
  {
   "cell_type": "code",
   "execution_count": null,
   "id": "cb062fbc-fa6c-404d-8bce-7f8e59d23b54",
   "metadata": {},
   "outputs": [],
   "source": []
  },
  {
   "cell_type": "markdown",
   "id": "010849bc-8e10-4a1b-932a-9c62755b72fa",
   "metadata": {},
   "source": [
    "Dessinez maintenant les fonctions apprises par chaque neurone caché."
   ]
  },
  {
   "cell_type": "code",
   "execution_count": null,
   "id": "c71fe0fe-6c27-46c1-8d87-24051dea7024",
   "metadata": {},
   "outputs": [],
   "source": []
  },
  {
   "cell_type": "markdown",
   "id": "69d9b7b1-15b1-4fe9-bb28-5af89169c0e9",
   "metadata": {},
   "source": [
    "D'après ces graphiques, expliquez en quelques phrases comment le réseau de neurones a implémenté la tâche."
   ]
  },
  {
   "cell_type": "code",
   "execution_count": null,
   "id": "f6a8da78-e8bd-42b6-a895-904bee431c99",
   "metadata": {},
   "outputs": [],
   "source": []
  }
 ],
 "metadata": {
  "kernelspec": {
   "display_name": "Python 3 (ipykernel)",
   "language": "python",
   "name": "python3"
  },
  "language_info": {
   "codemirror_mode": {
    "name": "ipython",
    "version": 3
   },
   "file_extension": ".py",
   "mimetype": "text/x-python",
   "name": "python",
   "nbconvert_exporter": "python",
   "pygments_lexer": "ipython3",
   "version": "3.9.7"
  }
 },
 "nbformat": 4,
 "nbformat_minor": 5
}
